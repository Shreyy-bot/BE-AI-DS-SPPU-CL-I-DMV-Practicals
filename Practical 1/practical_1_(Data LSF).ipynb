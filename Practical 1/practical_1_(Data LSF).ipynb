{
 "cells": [
  {
   "cell_type": "code",
   "execution_count": 2,
   "id": "753f9f3a-cd4e-4ea7-b395-186b90d25401",
   "metadata": {},
   "outputs": [],
   "source": [
    "import pandas as pd"
   ]
  },
  {
   "cell_type": "code",
   "execution_count": 3,
   "id": "f8226995-517f-4787-91bd-d656c2b52790",
   "metadata": {},
   "outputs": [],
   "source": [
    "import json\n",
    "import matplotlib.pyplot"
   ]
  },
  {
   "cell_type": "markdown",
   "id": "8aba0fca-179a-46e2-ae7f-4b88d8d28e6b",
   "metadata": {},
   "source": [
    "--------------"
   ]
  },
  {
   "cell_type": "markdown",
   "id": "3ac964e8-99da-497c-b3c4-65e053d26092",
   "metadata": {},
   "source": [
    "*Load the Different Datasets*"
   ]
  },
  {
   "cell_type": "code",
   "execution_count": 4,
   "id": "a75a5b9d-4fd3-40df-a49a-62a6eddf07c1",
   "metadata": {},
   "outputs": [],
   "source": [
    "sale_csv = pd.read_csv(\"sales_data_sample.csv\", encoding='ISO-8859-1')"
   ]
  },
  {
   "cell_type": "code",
   "execution_count": 5,
   "id": "4894228c-563e-4678-9fca-a28d15d7afee",
   "metadata": {},
   "outputs": [],
   "source": [
    "sale_xls = pd.read_excel(\"Sales.xlsx\")"
   ]
  },
  {
   "cell_type": "code",
   "execution_count": 6,
   "id": "e8a2904a-e700-4195-a0ad-76be5c21b7db",
   "metadata": {},
   "outputs": [],
   "source": [
    "with open(\"sales.json\", \"r\") as file:\n",
    "    data = json.load(file)"
   ]
  },
  {
   "cell_type": "code",
   "execution_count": 7,
   "id": "1a0cc6d2-7118-4c79-ba0f-3ad16639bf03",
   "metadata": {},
   "outputs": [],
   "source": [
    "sale_json = pd.DataFrame.from_dict(data, orient='index')"
   ]
  },
  {
   "cell_type": "code",
   "execution_count": 8,
   "id": "fb9d4eff-0af1-49a3-9b61-123fbac542ff",
   "metadata": {},
   "outputs": [
    {
     "data": {
      "text/html": [
       "<div>\n",
       "<style scoped>\n",
       "    .dataframe tbody tr th:only-of-type {\n",
       "        vertical-align: middle;\n",
       "    }\n",
       "\n",
       "    .dataframe tbody tr th {\n",
       "        vertical-align: top;\n",
       "    }\n",
       "\n",
       "    .dataframe thead th {\n",
       "        text-align: right;\n",
       "    }\n",
       "</style>\n",
       "<table border=\"1\" class=\"dataframe\">\n",
       "  <thead>\n",
       "    <tr style=\"text-align: right;\">\n",
       "      <th></th>\n",
       "      <th>ORDERNUMBER</th>\n",
       "      <th>QUANTITYORDERED</th>\n",
       "      <th>PRICEEACH</th>\n",
       "      <th>ORDERLINENUMBER</th>\n",
       "      <th>SALES</th>\n",
       "      <th>ORDERDATE</th>\n",
       "      <th>STATUS</th>\n",
       "      <th>QTR_ID</th>\n",
       "      <th>MONTH_ID</th>\n",
       "      <th>YEAR_ID</th>\n",
       "      <th>...</th>\n",
       "      <th>ADDRESSLINE1</th>\n",
       "      <th>ADDRESSLINE2</th>\n",
       "      <th>CITY</th>\n",
       "      <th>STATE</th>\n",
       "      <th>POSTALCODE</th>\n",
       "      <th>COUNTRY</th>\n",
       "      <th>TERRITORY</th>\n",
       "      <th>CONTACTLASTNAME</th>\n",
       "      <th>CONTACTFIRSTNAME</th>\n",
       "      <th>DEALSIZE</th>\n",
       "    </tr>\n",
       "  </thead>\n",
       "  <tbody>\n",
       "    <tr>\n",
       "      <th>0</th>\n",
       "      <td>10107</td>\n",
       "      <td>30</td>\n",
       "      <td>95.70</td>\n",
       "      <td>2</td>\n",
       "      <td>2871.00</td>\n",
       "      <td>2/24/2003 0:00</td>\n",
       "      <td>Shipped</td>\n",
       "      <td>1</td>\n",
       "      <td>2</td>\n",
       "      <td>2003</td>\n",
       "      <td>...</td>\n",
       "      <td>897 Long Airport Avenue</td>\n",
       "      <td>NaN</td>\n",
       "      <td>NYC</td>\n",
       "      <td>NY</td>\n",
       "      <td>10022</td>\n",
       "      <td>USA</td>\n",
       "      <td>NaN</td>\n",
       "      <td>Yu</td>\n",
       "      <td>Kwai</td>\n",
       "      <td>Small</td>\n",
       "    </tr>\n",
       "    <tr>\n",
       "      <th>1</th>\n",
       "      <td>10121</td>\n",
       "      <td>34</td>\n",
       "      <td>81.35</td>\n",
       "      <td>5</td>\n",
       "      <td>2765.90</td>\n",
       "      <td>5/7/2003 0:00</td>\n",
       "      <td>Shipped</td>\n",
       "      <td>2</td>\n",
       "      <td>5</td>\n",
       "      <td>2003</td>\n",
       "      <td>...</td>\n",
       "      <td>59 rue de l'Abbaye</td>\n",
       "      <td>NaN</td>\n",
       "      <td>Reims</td>\n",
       "      <td>NaN</td>\n",
       "      <td>51100</td>\n",
       "      <td>France</td>\n",
       "      <td>EMEA</td>\n",
       "      <td>Henriot</td>\n",
       "      <td>Paul</td>\n",
       "      <td>Small</td>\n",
       "    </tr>\n",
       "    <tr>\n",
       "      <th>2</th>\n",
       "      <td>10134</td>\n",
       "      <td>41</td>\n",
       "      <td>94.74</td>\n",
       "      <td>2</td>\n",
       "      <td>3884.34</td>\n",
       "      <td>7/1/2003 0:00</td>\n",
       "      <td>Shipped</td>\n",
       "      <td>3</td>\n",
       "      <td>7</td>\n",
       "      <td>2003</td>\n",
       "      <td>...</td>\n",
       "      <td>27 rue du Colonel Pierre Avia</td>\n",
       "      <td>NaN</td>\n",
       "      <td>Paris</td>\n",
       "      <td>NaN</td>\n",
       "      <td>75508</td>\n",
       "      <td>France</td>\n",
       "      <td>EMEA</td>\n",
       "      <td>Da Cunha</td>\n",
       "      <td>Daniel</td>\n",
       "      <td>Medium</td>\n",
       "    </tr>\n",
       "    <tr>\n",
       "      <th>3</th>\n",
       "      <td>10145</td>\n",
       "      <td>45</td>\n",
       "      <td>83.26</td>\n",
       "      <td>6</td>\n",
       "      <td>3746.70</td>\n",
       "      <td>8/25/2003 0:00</td>\n",
       "      <td>Shipped</td>\n",
       "      <td>3</td>\n",
       "      <td>8</td>\n",
       "      <td>2003</td>\n",
       "      <td>...</td>\n",
       "      <td>78934 Hillside Dr.</td>\n",
       "      <td>NaN</td>\n",
       "      <td>Pasadena</td>\n",
       "      <td>CA</td>\n",
       "      <td>90003</td>\n",
       "      <td>USA</td>\n",
       "      <td>NaN</td>\n",
       "      <td>Young</td>\n",
       "      <td>Julie</td>\n",
       "      <td>Medium</td>\n",
       "    </tr>\n",
       "    <tr>\n",
       "      <th>4</th>\n",
       "      <td>10159</td>\n",
       "      <td>49</td>\n",
       "      <td>100.00</td>\n",
       "      <td>14</td>\n",
       "      <td>5205.27</td>\n",
       "      <td>10/10/2003 0:00</td>\n",
       "      <td>Shipped</td>\n",
       "      <td>4</td>\n",
       "      <td>10</td>\n",
       "      <td>2003</td>\n",
       "      <td>...</td>\n",
       "      <td>7734 Strong St.</td>\n",
       "      <td>NaN</td>\n",
       "      <td>San Francisco</td>\n",
       "      <td>CA</td>\n",
       "      <td>NaN</td>\n",
       "      <td>USA</td>\n",
       "      <td>NaN</td>\n",
       "      <td>Brown</td>\n",
       "      <td>Julie</td>\n",
       "      <td>Medium</td>\n",
       "    </tr>\n",
       "  </tbody>\n",
       "</table>\n",
       "<p>5 rows × 25 columns</p>\n",
       "</div>"
      ],
      "text/plain": [
       "   ORDERNUMBER  QUANTITYORDERED  PRICEEACH  ORDERLINENUMBER    SALES  \\\n",
       "0        10107               30      95.70                2  2871.00   \n",
       "1        10121               34      81.35                5  2765.90   \n",
       "2        10134               41      94.74                2  3884.34   \n",
       "3        10145               45      83.26                6  3746.70   \n",
       "4        10159               49     100.00               14  5205.27   \n",
       "\n",
       "         ORDERDATE   STATUS  QTR_ID  MONTH_ID  YEAR_ID  ...  \\\n",
       "0   2/24/2003 0:00  Shipped       1         2     2003  ...   \n",
       "1    5/7/2003 0:00  Shipped       2         5     2003  ...   \n",
       "2    7/1/2003 0:00  Shipped       3         7     2003  ...   \n",
       "3   8/25/2003 0:00  Shipped       3         8     2003  ...   \n",
       "4  10/10/2003 0:00  Shipped       4        10     2003  ...   \n",
       "\n",
       "                    ADDRESSLINE1  ADDRESSLINE2           CITY STATE  \\\n",
       "0        897 Long Airport Avenue           NaN            NYC    NY   \n",
       "1             59 rue de l'Abbaye           NaN          Reims   NaN   \n",
       "2  27 rue du Colonel Pierre Avia           NaN          Paris   NaN   \n",
       "3             78934 Hillside Dr.           NaN       Pasadena    CA   \n",
       "4                7734 Strong St.           NaN  San Francisco    CA   \n",
       "\n",
       "  POSTALCODE COUNTRY TERRITORY CONTACTLASTNAME CONTACTFIRSTNAME DEALSIZE  \n",
       "0      10022     USA       NaN              Yu             Kwai    Small  \n",
       "1      51100  France      EMEA         Henriot             Paul    Small  \n",
       "2      75508  France      EMEA        Da Cunha           Daniel   Medium  \n",
       "3      90003     USA       NaN           Young            Julie   Medium  \n",
       "4        NaN     USA       NaN           Brown            Julie   Medium  \n",
       "\n",
       "[5 rows x 25 columns]"
      ]
     },
     "execution_count": 8,
     "metadata": {},
     "output_type": "execute_result"
    }
   ],
   "source": [
    "sale_csv.head()"
   ]
  },
  {
   "cell_type": "code",
   "execution_count": 9,
   "id": "6ce6077f-cfbd-4735-afbd-d179f29d154a",
   "metadata": {},
   "outputs": [
    {
     "data": {
      "text/html": [
       "<div>\n",
       "<style scoped>\n",
       "    .dataframe tbody tr th:only-of-type {\n",
       "        vertical-align: middle;\n",
       "    }\n",
       "\n",
       "    .dataframe tbody tr th {\n",
       "        vertical-align: top;\n",
       "    }\n",
       "\n",
       "    .dataframe thead th {\n",
       "        text-align: right;\n",
       "    }\n",
       "</style>\n",
       "<table border=\"1\" class=\"dataframe\">\n",
       "  <thead>\n",
       "    <tr style=\"text-align: right;\">\n",
       "      <th></th>\n",
       "      <th>SALES_ID</th>\n",
       "      <th>SALES_BY_REGION</th>\n",
       "      <th>JANUARY</th>\n",
       "      <th>FEBRUARY</th>\n",
       "      <th>MARCH</th>\n",
       "      <th>APRIL</th>\n",
       "      <th>MAY</th>\n",
       "      <th>JUNE</th>\n",
       "      <th>JULY</th>\n",
       "      <th>AUGUST</th>\n",
       "      <th>SEPTEMBER</th>\n",
       "      <th>OCTOBER</th>\n",
       "      <th>NOVEMBER</th>\n",
       "      <th>DECEMBER</th>\n",
       "    </tr>\n",
       "  </thead>\n",
       "  <tbody>\n",
       "    <tr>\n",
       "      <th>0</th>\n",
       "      <td>16</td>\n",
       "      <td>UAQ</td>\n",
       "      <td>n.a.</td>\n",
       "      <td>5941</td>\n",
       "      <td>3487</td>\n",
       "      <td>-1</td>\n",
       "      <td>5433</td>\n",
       "      <td>3511</td>\n",
       "      <td>2555</td>\n",
       "      <td>n.a.</td>\n",
       "      <td>1929</td>\n",
       "      <td>4285</td>\n",
       "      <td>1198</td>\n",
       "      <td>-1</td>\n",
       "    </tr>\n",
       "    <tr>\n",
       "      <th>1</th>\n",
       "      <td>10</td>\n",
       "      <td>FUJ</td>\n",
       "      <td>1085</td>\n",
       "      <td>5189</td>\n",
       "      <td>n.a.</td>\n",
       "      <td>1142</td>\n",
       "      <td>1951</td>\n",
       "      <td>3967</td>\n",
       "      <td>1993</td>\n",
       "      <td>5116</td>\n",
       "      <td>3785</td>\n",
       "      <td>2733</td>\n",
       "      <td>5686</td>\n",
       "      <td>n.a.</td>\n",
       "    </tr>\n",
       "    <tr>\n",
       "      <th>2</th>\n",
       "      <td>28</td>\n",
       "      <td>AUH</td>\n",
       "      <td>-1</td>\n",
       "      <td>1796</td>\n",
       "      <td>2472</td>\n",
       "      <td>4829</td>\n",
       "      <td>2194</td>\n",
       "      <td>-1</td>\n",
       "      <td>1142</td>\n",
       "      <td>1674</td>\n",
       "      <td>5857</td>\n",
       "      <td>1500</td>\n",
       "      <td>3219</td>\n",
       "      <td>5033</td>\n",
       "    </tr>\n",
       "    <tr>\n",
       "      <th>3</th>\n",
       "      <td>8</td>\n",
       "      <td>DXB</td>\n",
       "      <td>3490</td>\n",
       "      <td>not avilable</td>\n",
       "      <td>1317</td>\n",
       "      <td>2351</td>\n",
       "      <td>1864</td>\n",
       "      <td>n.a.</td>\n",
       "      <td>4161</td>\n",
       "      <td>1131</td>\n",
       "      <td>2173</td>\n",
       "      <td>4005</td>\n",
       "      <td>5238</td>\n",
       "      <td>1396</td>\n",
       "    </tr>\n",
       "    <tr>\n",
       "      <th>4</th>\n",
       "      <td>5</td>\n",
       "      <td>FUJ</td>\n",
       "      <td>2152</td>\n",
       "      <td>3064</td>\n",
       "      <td>3981</td>\n",
       "      <td>2958</td>\n",
       "      <td>3794</td>\n",
       "      <td>5453</td>\n",
       "      <td>3324</td>\n",
       "      <td>n.a.</td>\n",
       "      <td>1516</td>\n",
       "      <td>5640</td>\n",
       "      <td>1301</td>\n",
       "      <td>5513</td>\n",
       "    </tr>\n",
       "  </tbody>\n",
       "</table>\n",
       "</div>"
      ],
      "text/plain": [
       "   SALES_ID SALES_BY_REGION JANUARY      FEBRUARY MARCH  APRIL   MAY  JUNE  \\\n",
       "0        16             UAQ    n.a.          5941  3487     -1  5433  3511   \n",
       "1        10             FUJ    1085          5189  n.a.   1142  1951  3967   \n",
       "2        28             AUH      -1          1796  2472   4829  2194    -1   \n",
       "3         8             DXB    3490  not avilable  1317   2351  1864  n.a.   \n",
       "4         5             FUJ    2152          3064  3981   2958  3794  5453   \n",
       "\n",
       "   JULY AUGUST  SEPTEMBER OCTOBER  NOVEMBER DECEMBER  \n",
       "0  2555   n.a.       1929    4285      1198       -1  \n",
       "1  1993   5116       3785    2733      5686     n.a.  \n",
       "2  1142   1674       5857    1500      3219     5033  \n",
       "3  4161   1131       2173    4005      5238     1396  \n",
       "4  3324   n.a.       1516    5640      1301     5513  "
      ]
     },
     "execution_count": 9,
     "metadata": {},
     "output_type": "execute_result"
    }
   ],
   "source": [
    "sale_xls.head()"
   ]
  },
  {
   "cell_type": "code",
   "execution_count": 10,
   "id": "17214aed-51a6-4749-a6c8-46700cc6c391",
   "metadata": {},
   "outputs": [
    {
     "data": {
      "text/html": [
       "<div>\n",
       "<style scoped>\n",
       "    .dataframe tbody tr th:only-of-type {\n",
       "        vertical-align: middle;\n",
       "    }\n",
       "\n",
       "    .dataframe tbody tr th {\n",
       "        vertical-align: top;\n",
       "    }\n",
       "\n",
       "    .dataframe thead th {\n",
       "        text-align: right;\n",
       "    }\n",
       "</style>\n",
       "<table border=\"1\" class=\"dataframe\">\n",
       "  <thead>\n",
       "    <tr style=\"text-align: right;\">\n",
       "      <th></th>\n",
       "      <th>0</th>\n",
       "    </tr>\n",
       "  </thead>\n",
       "  <tbody>\n",
       "    <tr>\n",
       "      <th>swagger</th>\n",
       "      <td>2.0</td>\n",
       "    </tr>\n",
       "    <tr>\n",
       "      <th>info</th>\n",
       "      <td>{'description': 'The Selling Partner API for S...</td>\n",
       "    </tr>\n",
       "    <tr>\n",
       "      <th>host</th>\n",
       "      <td>sellingpartnerapi-na.amazon.com</td>\n",
       "    </tr>\n",
       "    <tr>\n",
       "      <th>schemes</th>\n",
       "      <td>[https]</td>\n",
       "    </tr>\n",
       "    <tr>\n",
       "      <th>consumes</th>\n",
       "      <td>[application/json]</td>\n",
       "    </tr>\n",
       "  </tbody>\n",
       "</table>\n",
       "</div>"
      ],
      "text/plain": [
       "                                                          0\n",
       "swagger                                                 2.0\n",
       "info      {'description': 'The Selling Partner API for S...\n",
       "host                        sellingpartnerapi-na.amazon.com\n",
       "schemes                                             [https]\n",
       "consumes                                 [application/json]"
      ]
     },
     "execution_count": 10,
     "metadata": {},
     "output_type": "execute_result"
    }
   ],
   "source": [
    "sale_json.head()"
   ]
  },
  {
   "cell_type": "markdown",
   "id": "0417da0f-a580-497b-af88-4d7effee26ee",
   "metadata": {},
   "source": [
    "--------------------------"
   ]
  },
  {
   "cell_type": "markdown",
   "id": "890ccdc3-6d92-4207-af9e-33ab12b3fbb6",
   "metadata": {},
   "source": [
    "*Merge the datasets*"
   ]
  },
  {
   "cell_type": "code",
   "execution_count": 11,
   "id": "c6561974-d622-43cf-a57f-6ffa7fae8c1b",
   "metadata": {},
   "outputs": [],
   "source": [
    "df = pd.concat([sale_csv, sale_json, sale_xls], ignore_index=True)"
   ]
  },
  {
   "cell_type": "code",
   "execution_count": 12,
   "id": "5b8a9aea-9a86-4ff1-b2e6-bb3e4b351725",
   "metadata": {},
   "outputs": [
    {
     "data": {
      "text/html": [
       "<div>\n",
       "<style scoped>\n",
       "    .dataframe tbody tr th:only-of-type {\n",
       "        vertical-align: middle;\n",
       "    }\n",
       "\n",
       "    .dataframe tbody tr th {\n",
       "        vertical-align: top;\n",
       "    }\n",
       "\n",
       "    .dataframe thead th {\n",
       "        text-align: right;\n",
       "    }\n",
       "</style>\n",
       "<table border=\"1\" class=\"dataframe\">\n",
       "  <thead>\n",
       "    <tr style=\"text-align: right;\">\n",
       "      <th></th>\n",
       "      <th>ORDERNUMBER</th>\n",
       "      <th>QUANTITYORDERED</th>\n",
       "      <th>PRICEEACH</th>\n",
       "      <th>ORDERLINENUMBER</th>\n",
       "      <th>SALES</th>\n",
       "      <th>ORDERDATE</th>\n",
       "      <th>STATUS</th>\n",
       "      <th>QTR_ID</th>\n",
       "      <th>MONTH_ID</th>\n",
       "      <th>YEAR_ID</th>\n",
       "      <th>...</th>\n",
       "      <th>MARCH</th>\n",
       "      <th>APRIL</th>\n",
       "      <th>MAY</th>\n",
       "      <th>JUNE</th>\n",
       "      <th>JULY</th>\n",
       "      <th>AUGUST</th>\n",
       "      <th>SEPTEMBER</th>\n",
       "      <th>OCTOBER</th>\n",
       "      <th>NOVEMBER</th>\n",
       "      <th>DECEMBER</th>\n",
       "    </tr>\n",
       "  </thead>\n",
       "  <tbody>\n",
       "    <tr>\n",
       "      <th>0</th>\n",
       "      <td>10107.0</td>\n",
       "      <td>30.0</td>\n",
       "      <td>95.70</td>\n",
       "      <td>2.0</td>\n",
       "      <td>2871.00</td>\n",
       "      <td>2/24/2003 0:00</td>\n",
       "      <td>Shipped</td>\n",
       "      <td>1.0</td>\n",
       "      <td>2.0</td>\n",
       "      <td>2003.0</td>\n",
       "      <td>...</td>\n",
       "      <td>NaN</td>\n",
       "      <td>NaN</td>\n",
       "      <td>NaN</td>\n",
       "      <td>NaN</td>\n",
       "      <td>NaN</td>\n",
       "      <td>NaN</td>\n",
       "      <td>NaN</td>\n",
       "      <td>NaN</td>\n",
       "      <td>NaN</td>\n",
       "      <td>NaN</td>\n",
       "    </tr>\n",
       "    <tr>\n",
       "      <th>1</th>\n",
       "      <td>10121.0</td>\n",
       "      <td>34.0</td>\n",
       "      <td>81.35</td>\n",
       "      <td>5.0</td>\n",
       "      <td>2765.90</td>\n",
       "      <td>5/7/2003 0:00</td>\n",
       "      <td>Shipped</td>\n",
       "      <td>2.0</td>\n",
       "      <td>5.0</td>\n",
       "      <td>2003.0</td>\n",
       "      <td>...</td>\n",
       "      <td>NaN</td>\n",
       "      <td>NaN</td>\n",
       "      <td>NaN</td>\n",
       "      <td>NaN</td>\n",
       "      <td>NaN</td>\n",
       "      <td>NaN</td>\n",
       "      <td>NaN</td>\n",
       "      <td>NaN</td>\n",
       "      <td>NaN</td>\n",
       "      <td>NaN</td>\n",
       "    </tr>\n",
       "    <tr>\n",
       "      <th>2</th>\n",
       "      <td>10134.0</td>\n",
       "      <td>41.0</td>\n",
       "      <td>94.74</td>\n",
       "      <td>2.0</td>\n",
       "      <td>3884.34</td>\n",
       "      <td>7/1/2003 0:00</td>\n",
       "      <td>Shipped</td>\n",
       "      <td>3.0</td>\n",
       "      <td>7.0</td>\n",
       "      <td>2003.0</td>\n",
       "      <td>...</td>\n",
       "      <td>NaN</td>\n",
       "      <td>NaN</td>\n",
       "      <td>NaN</td>\n",
       "      <td>NaN</td>\n",
       "      <td>NaN</td>\n",
       "      <td>NaN</td>\n",
       "      <td>NaN</td>\n",
       "      <td>NaN</td>\n",
       "      <td>NaN</td>\n",
       "      <td>NaN</td>\n",
       "    </tr>\n",
       "    <tr>\n",
       "      <th>3</th>\n",
       "      <td>10145.0</td>\n",
       "      <td>45.0</td>\n",
       "      <td>83.26</td>\n",
       "      <td>6.0</td>\n",
       "      <td>3746.70</td>\n",
       "      <td>8/25/2003 0:00</td>\n",
       "      <td>Shipped</td>\n",
       "      <td>3.0</td>\n",
       "      <td>8.0</td>\n",
       "      <td>2003.0</td>\n",
       "      <td>...</td>\n",
       "      <td>NaN</td>\n",
       "      <td>NaN</td>\n",
       "      <td>NaN</td>\n",
       "      <td>NaN</td>\n",
       "      <td>NaN</td>\n",
       "      <td>NaN</td>\n",
       "      <td>NaN</td>\n",
       "      <td>NaN</td>\n",
       "      <td>NaN</td>\n",
       "      <td>NaN</td>\n",
       "    </tr>\n",
       "    <tr>\n",
       "      <th>4</th>\n",
       "      <td>10159.0</td>\n",
       "      <td>49.0</td>\n",
       "      <td>100.00</td>\n",
       "      <td>14.0</td>\n",
       "      <td>5205.27</td>\n",
       "      <td>10/10/2003 0:00</td>\n",
       "      <td>Shipped</td>\n",
       "      <td>4.0</td>\n",
       "      <td>10.0</td>\n",
       "      <td>2003.0</td>\n",
       "      <td>...</td>\n",
       "      <td>NaN</td>\n",
       "      <td>NaN</td>\n",
       "      <td>NaN</td>\n",
       "      <td>NaN</td>\n",
       "      <td>NaN</td>\n",
       "      <td>NaN</td>\n",
       "      <td>NaN</td>\n",
       "      <td>NaN</td>\n",
       "      <td>NaN</td>\n",
       "      <td>NaN</td>\n",
       "    </tr>\n",
       "  </tbody>\n",
       "</table>\n",
       "<p>5 rows × 40 columns</p>\n",
       "</div>"
      ],
      "text/plain": [
       "   ORDERNUMBER  QUANTITYORDERED  PRICEEACH  ORDERLINENUMBER    SALES  \\\n",
       "0      10107.0             30.0      95.70              2.0  2871.00   \n",
       "1      10121.0             34.0      81.35              5.0  2765.90   \n",
       "2      10134.0             41.0      94.74              2.0  3884.34   \n",
       "3      10145.0             45.0      83.26              6.0  3746.70   \n",
       "4      10159.0             49.0     100.00             14.0  5205.27   \n",
       "\n",
       "         ORDERDATE   STATUS  QTR_ID  MONTH_ID  YEAR_ID  ... MARCH  APRIL MAY  \\\n",
       "0   2/24/2003 0:00  Shipped     1.0       2.0   2003.0  ...   NaN    NaN NaN   \n",
       "1    5/7/2003 0:00  Shipped     2.0       5.0   2003.0  ...   NaN    NaN NaN   \n",
       "2    7/1/2003 0:00  Shipped     3.0       7.0   2003.0  ...   NaN    NaN NaN   \n",
       "3   8/25/2003 0:00  Shipped     3.0       8.0   2003.0  ...   NaN    NaN NaN   \n",
       "4  10/10/2003 0:00  Shipped     4.0      10.0   2003.0  ...   NaN    NaN NaN   \n",
       "\n",
       "  JUNE JULY AUGUST SEPTEMBER OCTOBER NOVEMBER DECEMBER  \n",
       "0  NaN  NaN    NaN       NaN     NaN      NaN      NaN  \n",
       "1  NaN  NaN    NaN       NaN     NaN      NaN      NaN  \n",
       "2  NaN  NaN    NaN       NaN     NaN      NaN      NaN  \n",
       "3  NaN  NaN    NaN       NaN     NaN      NaN      NaN  \n",
       "4  NaN  NaN    NaN       NaN     NaN      NaN      NaN  \n",
       "\n",
       "[5 rows x 40 columns]"
      ]
     },
     "execution_count": 12,
     "metadata": {},
     "output_type": "execute_result"
    }
   ],
   "source": [
    "df.head()"
   ]
  },
  {
   "cell_type": "code",
   "execution_count": 13,
   "id": "df5a84d8-7a66-4549-be53-10b4168a4913",
   "metadata": {},
   "outputs": [
    {
     "data": {
      "text/plain": [
       "(2929, 40)"
      ]
     },
     "execution_count": 13,
     "metadata": {},
     "output_type": "execute_result"
    }
   ],
   "source": [
    "df.shape"
   ]
  },
  {
   "cell_type": "code",
   "execution_count": 14,
   "id": "6f5f72f9-77a0-4d4f-bceb-fedb510e6783",
   "metadata": {
    "scrolled": true
   },
   "outputs": [
    {
     "data": {
      "text/plain": [
       "ORDERNUMBER         float64\n",
       "QUANTITYORDERED     float64\n",
       "PRICEEACH           float64\n",
       "ORDERLINENUMBER     float64\n",
       "SALES               float64\n",
       "ORDERDATE            object\n",
       "STATUS               object\n",
       "QTR_ID              float64\n",
       "MONTH_ID            float64\n",
       "YEAR_ID             float64\n",
       "PRODUCTLINE          object\n",
       "MSRP                float64\n",
       "PRODUCTCODE          object\n",
       "CUSTOMERNAME         object\n",
       "PHONE                object\n",
       "ADDRESSLINE1         object\n",
       "ADDRESSLINE2         object\n",
       "CITY                 object\n",
       "STATE                object\n",
       "POSTALCODE           object\n",
       "COUNTRY              object\n",
       "TERRITORY            object\n",
       "CONTACTLASTNAME      object\n",
       "CONTACTFIRSTNAME     object\n",
       "DEALSIZE             object\n",
       "0                    object\n",
       "SALES_ID            float64\n",
       "SALES_BY_REGION      object\n",
       "JANUARY              object\n",
       "FEBRUARY             object\n",
       "MARCH                object\n",
       "APRIL               float64\n",
       "MAY                 float64\n",
       "JUNE                 object\n",
       "JULY                 object\n",
       "AUGUST               object\n",
       "SEPTEMBER           float64\n",
       "OCTOBER              object\n",
       "NOVEMBER            float64\n",
       "DECEMBER             object\n",
       "dtype: object"
      ]
     },
     "execution_count": 14,
     "metadata": {},
     "output_type": "execute_result"
    }
   ],
   "source": [
    "df.dtypes"
   ]
  },
  {
   "cell_type": "markdown",
   "id": "9f9e2340-ec99-47fb-9f24-69d4717876c9",
   "metadata": {},
   "source": [
    "--------------"
   ]
  },
  {
   "cell_type": "markdown",
   "id": "07ab3f61-1ffc-4e9e-bc54-27e26b466a3c",
   "metadata": {},
   "source": [
    "*Handle Missing Values*"
   ]
  },
  {
   "cell_type": "code",
   "execution_count": 15,
   "id": "93473671-b846-4b4d-b360-7485e3cc0654",
   "metadata": {},
   "outputs": [],
   "source": [
    "for col in df.columns:\n",
    "    if df[col].apply(lambda x: isinstance(x, (dict, list))).any():\n",
    "        df[col] = df[col].apply(str)\n",
    "\n",
    "df.drop_duplicates(inplace=True)"
   ]
  },
  {
   "cell_type": "code",
   "execution_count": 16,
   "id": "5d1a7e62-e6b4-44f5-834f-93f4a0815cfb",
   "metadata": {},
   "outputs": [
    {
     "data": {
      "text/plain": [
       "(2928, 40)"
      ]
     },
     "execution_count": 16,
     "metadata": {},
     "output_type": "execute_result"
    }
   ],
   "source": [
    "df.shape"
   ]
  },
  {
   "cell_type": "code",
   "execution_count": 17,
   "id": "780b3fbc-e215-44d0-9f05-a03b205c1ceb",
   "metadata": {},
   "outputs": [
    {
     "data": {
      "text/plain": [
       "ORDERNUMBER          105\n",
       "QUANTITYORDERED      105\n",
       "PRICEEACH            105\n",
       "ORDERLINENUMBER      105\n",
       "SALES                105\n",
       "ORDERDATE            105\n",
       "STATUS               105\n",
       "QTR_ID               105\n",
       "MONTH_ID             105\n",
       "YEAR_ID              105\n",
       "PRODUCTLINE          105\n",
       "MSRP                 105\n",
       "PRODUCTCODE          105\n",
       "CUSTOMERNAME         105\n",
       "PHONE                105\n",
       "ADDRESSLINE1         105\n",
       "ADDRESSLINE2        2626\n",
       "CITY                 105\n",
       "STATE               1591\n",
       "POSTALCODE           181\n",
       "COUNTRY              105\n",
       "TERRITORY           1179\n",
       "CONTACTLASTNAME      105\n",
       "CONTACTFIRSTNAME     105\n",
       "DEALSIZE             105\n",
       "0                      0\n",
       "SALES_ID            2830\n",
       "SALES_BY_REGION     2830\n",
       "JANUARY             2830\n",
       "FEBRUARY            2830\n",
       "MARCH               2830\n",
       "APRIL               2830\n",
       "MAY                 2830\n",
       "JUNE                2830\n",
       "JULY                2830\n",
       "AUGUST              2830\n",
       "SEPTEMBER           2830\n",
       "OCTOBER             2830\n",
       "NOVEMBER            2830\n",
       "DECEMBER            2830\n",
       "dtype: int64"
      ]
     },
     "execution_count": 17,
     "metadata": {},
     "output_type": "execute_result"
    }
   ],
   "source": [
    "df.isnull().sum()"
   ]
  },
  {
   "cell_type": "code",
   "execution_count": 18,
   "id": "50952d4e-5854-4582-97e5-92d9a88f7862",
   "metadata": {
    "scrolled": true
   },
   "outputs": [
    {
     "name": "stderr",
     "output_type": "stream",
     "text": [
      "C:\\Users\\HP\\AppData\\Local\\Temp\\ipykernel_9548\\3970806690.py:1: FutureWarning: DataFrame.fillna with 'method' is deprecated and will raise in a future version. Use obj.ffill() or obj.bfill() instead.\n",
      "  df.fillna(method='ffill', inplace=True)\n"
     ]
    }
   ],
   "source": [
    "df.fillna(method='ffill', inplace=True)"
   ]
  },
  {
   "cell_type": "code",
   "execution_count": 19,
   "id": "855e1dbe-0b5a-4e5d-928a-f17b1525989c",
   "metadata": {},
   "outputs": [
    {
     "data": {
      "text/plain": [
       "(2928, 40)"
      ]
     },
     "execution_count": 19,
     "metadata": {},
     "output_type": "execute_result"
    }
   ],
   "source": [
    "df.shape"
   ]
  },
  {
   "cell_type": "code",
   "execution_count": 20,
   "id": "0862e888-51d4-49d8-8c58-e03a83aa3ac0",
   "metadata": {},
   "outputs": [
    {
     "data": {
      "text/plain": [
       "Index([     'ORDERNUMBER',  'QUANTITYORDERED',        'PRICEEACH',\n",
       "        'ORDERLINENUMBER',            'SALES',        'ORDERDATE',\n",
       "                 'STATUS',           'QTR_ID',         'MONTH_ID',\n",
       "                'YEAR_ID',      'PRODUCTLINE',             'MSRP',\n",
       "            'PRODUCTCODE',     'CUSTOMERNAME',            'PHONE',\n",
       "           'ADDRESSLINE1',     'ADDRESSLINE2',             'CITY',\n",
       "                  'STATE',       'POSTALCODE',          'COUNTRY',\n",
       "              'TERRITORY',  'CONTACTLASTNAME', 'CONTACTFIRSTNAME',\n",
       "               'DEALSIZE',                  0,         'SALES_ID',\n",
       "        'SALES_BY_REGION',          'JANUARY',         'FEBRUARY',\n",
       "                  'MARCH',            'APRIL',              'MAY',\n",
       "                   'JUNE',             'JULY',           'AUGUST',\n",
       "              'SEPTEMBER',          'OCTOBER',         'NOVEMBER',\n",
       "               'DECEMBER'],\n",
       "      dtype='object')"
      ]
     },
     "execution_count": 20,
     "metadata": {},
     "output_type": "execute_result"
    }
   ],
   "source": [
    "df.columns"
   ]
  },
  {
   "cell_type": "markdown",
   "id": "1a337261-7261-4cc4-b713-5484ae8f4c87",
   "metadata": {},
   "source": [
    "-----------------------------------------------------------------------------------------"
   ]
  },
  {
   "cell_type": "markdown",
   "id": "769e1519-9ca2-458f-a061-4475b8f16100",
   "metadata": {},
   "source": [
    "*Data Transformation*"
   ]
  },
  {
   "cell_type": "code",
   "execution_count": 21,
   "id": "3d12d0fd-afd0-4f18-8148-dba4f99abe02",
   "metadata": {},
   "outputs": [],
   "source": [
    "df[['JANUARY', 'FEBRUARY', 'MARCH', 'APRIL', 'MAY', 'JUNE', 'JULY', 'AUGUST', 'SEPTEMBER', 'OCTOBER', 'NOVEMBER', 'DECEMBER']] = \\\n",
    "df[['JANUARY', 'FEBRUARY', 'MARCH', 'APRIL', 'MAY', 'JUNE', 'JULY', 'AUGUST', 'SEPTEMBER', 'OCTOBER', 'NOVEMBER', 'DECEMBER']].apply(pd.to_numeric, errors='coerce')"
   ]
  },
  {
   "cell_type": "code",
   "execution_count": 22,
   "id": "c5f060b5-a81e-479b-83fd-cda064d4fe24",
   "metadata": {
    "scrolled": true
   },
   "outputs": [],
   "source": [
    "df['TOTAL_SALE'] = df[['JANUARY', 'FEBRUARY', 'MARCH', 'APRIL', 'MAY', 'JUNE', 'JULY', 'AUGUST', 'SEPTEMBER', 'OCTOBER', 'NOVEMBER', 'DECEMBER']].sum(axis=1)"
   ]
  },
  {
   "cell_type": "code",
   "execution_count": 23,
   "id": "1f21ad1f-4baf-4c8a-9bcd-75f5ae5ded2d",
   "metadata": {},
   "outputs": [],
   "source": [
    "df['AVG_ORDER_VALUE'] = df['SALES'] / df['QUANTITYORDERED']"
   ]
  },
  {
   "cell_type": "markdown",
   "id": "dad56770-2faf-4b84-9dd4-26f9f0175ad7",
   "metadata": {},
   "source": [
    "-------"
   ]
  },
  {
   "cell_type": "markdown",
   "id": "34192294-3224-4d8d-a3ae-9d31881dff45",
   "metadata": {},
   "source": [
    "*Analyze the sale*"
   ]
  },
  {
   "cell_type": "code",
   "execution_count": 64,
   "id": "961e17f2-901d-4cff-9da5-b85d8ac863b4",
   "metadata": {},
   "outputs": [
    {
     "data": {
      "text/plain": [
       "3848604.0"
      ]
     },
     "execution_count": 64,
     "metadata": {},
     "output_type": "execute_result"
    }
   ],
   "source": [
    "total_sales = df['TOTAL_SALE'].sum()\n",
    "total_sales"
   ]
  },
  {
   "cell_type": "code",
   "execution_count": 66,
   "id": "6240a8f0-a252-450e-b099-bd7e9ff85d30",
   "metadata": {},
   "outputs": [
    {
     "data": {
      "text/plain": [
       "99.88138619509662"
      ]
     },
     "execution_count": 66,
     "metadata": {},
     "output_type": "execute_result"
    }
   ],
   "source": [
    "avg_order_value = df['AVG_ORDER_VALUE'].mean()\n",
    "avg_order_value"
   ]
  },
  {
   "cell_type": "code",
   "execution_count": 68,
   "id": "8794e71e-6913-49f1-9c4b-e92b888e9763",
   "metadata": {},
   "outputs": [
    {
     "data": {
      "text/plain": [
       "PRODUCTLINE\n",
       "Classic Cars        33.025956\n",
       "Vintage Cars        20.730874\n",
       "Ships               11.577869\n",
       "Motorcycles         11.304645\n",
       "Planes              10.450820\n",
       "Trucks and Buses    10.280055\n",
       "Trains               2.629781\n",
       "Name: proportion, dtype: float64"
      ]
     },
     "execution_count": 68,
     "metadata": {},
     "output_type": "execute_result"
    }
   ],
   "source": [
    "product_category_distribution = df['PRODUCTLINE'].value_counts(normalize=True) * 100\n",
    "product_category_distribution"
   ]
  },
  {
   "cell_type": "markdown",
   "id": "5eb18cec-b9f8-42cc-9043-75ba2b2678e1",
   "metadata": {},
   "source": [
    "------------"
   ]
  },
  {
   "cell_type": "markdown",
   "id": "d74d4876-579c-4a18-81d2-38503106e9c8",
   "metadata": {},
   "source": [
    "*Visualizations*"
   ]
  },
  {
   "cell_type": "code",
   "execution_count": 74,
   "id": "fc5f7a24-204f-45ec-88ce-fd56b6c7513a",
   "metadata": {},
   "outputs": [
    {
     "data": {
      "text/plain": [
       "<Axes: title={'center': 'Total Sales by Product Line'}, xlabel='PRODUCTLINE'>"
      ]
     },
     "execution_count": 74,
     "metadata": {},
     "output_type": "execute_result"
    },
    {
     "data": {
      "image/png": "[encoded data removed]",
      "text/plain": [
       "<Figure size 640x480 with 1 Axes>"
      ]
     },
     "metadata": {},
     "output_type": "display_data"
    }
   ],
   "source": [
    "df[['PRODUCTLINE', 'SALES']].groupby('PRODUCTLINE').sum().plot(kind='bar', title=\"Total Sales by Product Line\")"
   ]
  },
  {
   "cell_type": "code",
   "execution_count": 76,
   "id": "e61e97d9-7f4d-43ef-b993-77f0dec8d88c",
   "metadata": {},
   "outputs": [
    {
     "data": {
      "text/plain": [
       "<Axes: title={'center': 'Deal Size Distribution'}, ylabel='count'>"
      ]
     },
     "execution_count": 76,
     "metadata": {},
     "output_type": "execute_result"
    },
    {
     "data": {
      "image/png": "[encoded data removed]",
      "text/plain": [
       "<Figure size 640x480 with 1 Axes>"
      ]
     },
     "metadata": {},
     "output_type": "display_data"
    }
   ],
   "source": [
    "df['DEALSIZE'].value_counts().plot(kind='pie', autopct='%1.1f%%', title=\"Deal Size Distribution\")"
   ]
  },
  {
   "cell_type": "code",
   "execution_count": 80,
   "id": "b3cf52a6-93d0-4fec-8462-21e7abff914e",
   "metadata": {},
   "outputs": [
    {
     "data": {
      "text/plain": [
       "<Axes: title={'center': 'PRODUCTLINE Distribution'}, ylabel='count'>"
      ]
     },
     "execution_count": 80,
     "metadata": {},
     "output_type": "execute_result"
    },
    {
     "data": {
      "image/png": "[encoded data removed]",
      "text/plain": [
       "<Figure size 640x480 with 1 Axes>"
      ]
     },
     "metadata": {},
     "output_type": "display_data"
    }
   ],
   "source": [
    "df['PRODUCTLINE'].value_counts().plot(kind='pie', autopct='%1.1f%%', title=\"PRODUCTLINE Distribution\")"
   ]
  },
  {
   "cell_type": "code",
   "execution_count": null,
   "id": "41606a1c-c163-4f22-8380-0310a062d8d3",
   "metadata": {},
   "outputs": [],
   "source": []
  }
 ],
 "metadata": {
  "kernelspec": {
   "display_name": "Python 3 (ipykernel)",
   "language": "python",
   "name": "python3"
  },
  "language_info": {
   "codemirror_mode": {
    "name": "ipython",
    "version": 3
   },
   "file_extension": ".py",
   "mimetype": "text/x-python",
   "name": "python",
   "nbconvert_exporter": "python",
   "pygments_lexer": "ipython3",
   "version": "3.12.7"
  }
 },
 "nbformat": 4,
 "nbformat_minor": 5
}
