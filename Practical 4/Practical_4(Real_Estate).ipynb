{
 "cells": [
  {
   "cell_type": "code",
   "execution_count": 1,
   "id": "c35f23ec-e018-4024-9a52-ebbd18b11fbc",
   "metadata": {},
   "outputs": [],
   "source": [
    "import pandas as pd\n",
    "import numpy as np"
   ]
  },
  {
   "cell_type": "markdown",
   "id": "d321764d-2f74-4ea0-996c-8c76247c2865",
   "metadata": {},
   "source": [
    "---"
   ]
  },
  {
   "cell_type": "markdown",
   "id": "0a0266ac-8785-42a0-b49d-24b5ef55d106",
   "metadata": {},
   "source": [
    "*-  Import the \"RealEstate_Prices.csv\" dataset. Clean column names by removing spaces,\n",
    "special characters, or renaming them for clarity.*"
   ]
  },
  {
   "cell_type": "code",
   "execution_count": 4,
   "id": "e8532d54-7f4c-4ad9-bcc2-61132070e03a",
   "metadata": {},
   "outputs": [],
   "source": [
    "data = pd.read_csv(\"Bengaluru_House_Data - Bengaluru_House_Data.csv\")"
   ]
  },
  {
   "cell_type": "code",
   "execution_count": 5,
   "id": "b7faef33-6cfe-47a8-931f-754389535f5c",
   "metadata": {},
   "outputs": [
    {
     "data": {
      "text/html": [
       "<div>\n",
       "<style scoped>\n",
       "    .dataframe tbody tr th:only-of-type {\n",
       "        vertical-align: middle;\n",
       "    }\n",
       "\n",
       "    .dataframe tbody tr th {\n",
       "        vertical-align: top;\n",
       "    }\n",
       "\n",
       "    .dataframe thead th {\n",
       "        text-align: right;\n",
       "    }\n",
       "</style>\n",
       "<table border=\"1\" class=\"dataframe\">\n",
       "  <thead>\n",
       "    <tr style=\"text-align: right;\">\n",
       "      <th></th>\n",
       "      <th>area_type</th>\n",
       "      <th>availability</th>\n",
       "      <th>location</th>\n",
       "      <th>size</th>\n",
       "      <th>society</th>\n",
       "      <th>total_sqft</th>\n",
       "      <th>bath</th>\n",
       "      <th>balcony</th>\n",
       "      <th>price</th>\n",
       "    </tr>\n",
       "  </thead>\n",
       "  <tbody>\n",
       "    <tr>\n",
       "      <th>0</th>\n",
       "      <td>Super built-up  Area</td>\n",
       "      <td>19-Dec</td>\n",
       "      <td>Electronic City Phase II</td>\n",
       "      <td>2 BHK</td>\n",
       "      <td>Coomee</td>\n",
       "      <td>1056</td>\n",
       "      <td>2.0</td>\n",
       "      <td>1.0</td>\n",
       "      <td>39.07</td>\n",
       "    </tr>\n",
       "    <tr>\n",
       "      <th>1</th>\n",
       "      <td>Plot  Area</td>\n",
       "      <td>Ready To Move</td>\n",
       "      <td>Chikka Tirupathi</td>\n",
       "      <td>4 Bedroom</td>\n",
       "      <td>Theanmp</td>\n",
       "      <td>2600</td>\n",
       "      <td>5.0</td>\n",
       "      <td>3.0</td>\n",
       "      <td>120.00</td>\n",
       "    </tr>\n",
       "    <tr>\n",
       "      <th>2</th>\n",
       "      <td>Built-up  Area</td>\n",
       "      <td>Ready To Move</td>\n",
       "      <td>Uttarahalli</td>\n",
       "      <td>3 BHK</td>\n",
       "      <td>NaN</td>\n",
       "      <td>1440</td>\n",
       "      <td>2.0</td>\n",
       "      <td>3.0</td>\n",
       "      <td>62.00</td>\n",
       "    </tr>\n",
       "    <tr>\n",
       "      <th>3</th>\n",
       "      <td>Super built-up  Area</td>\n",
       "      <td>Ready To Move</td>\n",
       "      <td>Lingadheeranahalli</td>\n",
       "      <td>3 BHK</td>\n",
       "      <td>Soiewre</td>\n",
       "      <td>1521</td>\n",
       "      <td>3.0</td>\n",
       "      <td>1.0</td>\n",
       "      <td>95.00</td>\n",
       "    </tr>\n",
       "    <tr>\n",
       "      <th>4</th>\n",
       "      <td>Super built-up  Area</td>\n",
       "      <td>Ready To Move</td>\n",
       "      <td>Kothanur</td>\n",
       "      <td>2 BHK</td>\n",
       "      <td>NaN</td>\n",
       "      <td>1200</td>\n",
       "      <td>2.0</td>\n",
       "      <td>1.0</td>\n",
       "      <td>51.00</td>\n",
       "    </tr>\n",
       "  </tbody>\n",
       "</table>\n",
       "</div>"
      ],
      "text/plain": [
       "              area_type   availability                  location       size  \\\n",
       "0  Super built-up  Area         19-Dec  Electronic City Phase II      2 BHK   \n",
       "1            Plot  Area  Ready To Move          Chikka Tirupathi  4 Bedroom   \n",
       "2        Built-up  Area  Ready To Move               Uttarahalli      3 BHK   \n",
       "3  Super built-up  Area  Ready To Move        Lingadheeranahalli      3 BHK   \n",
       "4  Super built-up  Area  Ready To Move                  Kothanur      2 BHK   \n",
       "\n",
       "   society total_sqft  bath  balcony   price  \n",
       "0   Coomee       1056   2.0      1.0   39.07  \n",
       "1  Theanmp       2600   5.0      3.0  120.00  \n",
       "2      NaN       1440   2.0      3.0   62.00  \n",
       "3  Soiewre       1521   3.0      1.0   95.00  \n",
       "4      NaN       1200   2.0      1.0   51.00  "
      ]
     },
     "execution_count": 5,
     "metadata": {},
     "output_type": "execute_result"
    }
   ],
   "source": [
    "data.head()"
   ]
  },
  {
   "cell_type": "code",
   "execution_count": 6,
   "id": "0e9028a9-c807-4ab4-935c-03ba911ebdfe",
   "metadata": {},
   "outputs": [
    {
     "data": {
      "text/plain": [
       "Index(['area_type', 'availability', 'location', 'size', 'society',\n",
       "       'total_sqft', 'bath', 'balcony', 'price'],\n",
       "      dtype='object')"
      ]
     },
     "execution_count": 6,
     "metadata": {},
     "output_type": "execute_result"
    }
   ],
   "source": [
    "data.columns"
   ]
  },
  {
   "cell_type": "code",
   "execution_count": 7,
   "id": "602fa324-f432-4311-a61c-f45dcabbf16e",
   "metadata": {},
   "outputs": [
    {
     "data": {
      "text/plain": [
       "area_type        object\n",
       "availability     object\n",
       "location         object\n",
       "size             object\n",
       "society          object\n",
       "total_sqft       object\n",
       "bath            float64\n",
       "balcony         float64\n",
       "price           float64\n",
       "dtype: object"
      ]
     },
     "execution_count": 7,
     "metadata": {},
     "output_type": "execute_result"
    }
   ],
   "source": [
    "data.dtypes"
   ]
  },
  {
   "cell_type": "markdown",
   "id": "d4fca492-2139-4cad-8031-6a309a6e0ac9",
   "metadata": {},
   "source": [
    "*- Handle missing values in the dataset, deciding on an appropriate strategy (e.g.,\n",
    "imputation or removal).*"
   ]
  },
  {
   "cell_type": "code",
   "execution_count": 9,
   "id": "046a1dd9-834e-496e-9ff6-6591f6e45eef",
   "metadata": {},
   "outputs": [
    {
     "data": {
      "text/plain": [
       "area_type          0\n",
       "availability       0\n",
       "location           1\n",
       "size              16\n",
       "society         5502\n",
       "total_sqft         0\n",
       "bath              73\n",
       "balcony          609\n",
       "price              0\n",
       "dtype: int64"
      ]
     },
     "execution_count": 9,
     "metadata": {},
     "output_type": "execute_result"
    }
   ],
   "source": [
    "data.isnull().sum()"
   ]
  },
  {
   "cell_type": "code",
   "execution_count": 10,
   "id": "cca81179-44cd-4de8-97af-7bd8eb5eb916",
   "metadata": {},
   "outputs": [
    {
     "name": "stderr",
     "output_type": "stream",
     "text": [
      "C:\\Users\\HP\\AppData\\Local\\Temp\\ipykernel_2924\\968184513.py:1: FutureWarning: A value is trying to be set on a copy of a DataFrame or Series through chained assignment using an inplace method.\n",
      "The behavior will change in pandas 3.0. This inplace method will never work because the intermediate object on which we are setting values always behaves as a copy.\n",
      "\n",
      "For example, when doing 'df[col].method(value, inplace=True)', try using 'df.method({col: value}, inplace=True)' or df[col] = df[col].method(value) instead, to perform the operation inplace on the original object.\n",
      "\n",
      "\n",
      "  data['bath'].fillna(data['bath'].median(), inplace=True)\n"
     ]
    }
   ],
   "source": [
    "data['bath'].fillna(data['bath'].median(), inplace=True)"
   ]
  },
  {
   "cell_type": "code",
   "execution_count": 11,
   "id": "322add5e-1dab-40b8-8af1-016ba2614f84",
   "metadata": {},
   "outputs": [
    {
     "name": "stderr",
     "output_type": "stream",
     "text": [
      "C:\\Users\\HP\\AppData\\Local\\Temp\\ipykernel_2924\\289307471.py:1: FutureWarning: A value is trying to be set on a copy of a DataFrame or Series through chained assignment using an inplace method.\n",
      "The behavior will change in pandas 3.0. This inplace method will never work because the intermediate object on which we are setting values always behaves as a copy.\n",
      "\n",
      "For example, when doing 'df[col].method(value, inplace=True)', try using 'df.method({col: value}, inplace=True)' or df[col] = df[col].method(value) instead, to perform the operation inplace on the original object.\n",
      "\n",
      "\n",
      "  data['balcony'].fillna(data['balcony'].mean(), inplace=True)\n"
     ]
    }
   ],
   "source": [
    "data['balcony'].fillna(data['balcony'].mean(), inplace=True)"
   ]
  },
  {
   "cell_type": "code",
   "execution_count": 12,
   "id": "585caee1-00e9-416e-8b0c-486c91cd8c53",
   "metadata": {},
   "outputs": [
    {
     "data": {
      "text/plain": [
       "area_type          0\n",
       "availability       0\n",
       "location           1\n",
       "size              16\n",
       "society         5502\n",
       "total_sqft         0\n",
       "bath               0\n",
       "balcony            0\n",
       "price              0\n",
       "dtype: int64"
      ]
     },
     "execution_count": 12,
     "metadata": {},
     "output_type": "execute_result"
    }
   ],
   "source": [
    "data.isnull().sum()"
   ]
  },
  {
   "cell_type": "markdown",
   "id": "b44da63a-c4fb-40c0-9094-9b0f2a72749a",
   "metadata": {},
   "source": [
    "---"
   ]
  },
  {
   "cell_type": "code",
   "execution_count": 14,
   "id": "d016aedd-7ccc-4688-bcfa-de731676eccb",
   "metadata": {},
   "outputs": [],
   "source": [
    "data.dropna(subset=['price'], inplace=True)"
   ]
  },
  {
   "cell_type": "markdown",
   "id": "1f645590-4ea8-4d2e-89a7-1c080cbd3e21",
   "metadata": {},
   "source": [
    "---"
   ]
  },
  {
   "cell_type": "markdown",
   "id": "92715a8d-b9b7-458b-912c-4457c5d35d68",
   "metadata": {},
   "source": [
    "*- Filter and subset the data based on specific criteria, such as a particular time period,\n",
    "property type, or location.*"
   ]
  },
  {
   "cell_type": "code",
   "execution_count": 17,
   "id": "e745181f-a121-4596-9c06-f5a545d5b696",
   "metadata": {},
   "outputs": [],
   "source": [
    "data = data[(data['availability'] == 'Ready To Move') & (data['size'].str.contains('2 BHK', na=False))]"
   ]
  },
  {
   "cell_type": "markdown",
   "id": "d93c9761-14bd-40cb-908c-e736d43f1782",
   "metadata": {},
   "source": [
    "---"
   ]
  },
  {
   "cell_type": "markdown",
   "id": "7028e670-651a-48a4-8a44-28c199a18c37",
   "metadata": {},
   "source": [
    "*- Handle categorical variables by encoding them appropriately (e.g., one-hot encoding or\n",
    "label encoding) for further analysis.*"
   ]
  },
  {
   "cell_type": "code",
   "execution_count": 20,
   "id": "8d0d83c7-50c2-4d1c-b788-b9bbe8fe0092",
   "metadata": {},
   "outputs": [],
   "source": [
    "from sklearn.preprocessing import LabelEncoder"
   ]
  },
  {
   "cell_type": "code",
   "execution_count": 21,
   "id": "4c8942d7-f885-44a4-a81d-71f410bf36ed",
   "metadata": {},
   "outputs": [],
   "source": [
    "label_encoder = LabelEncoder()"
   ]
  },
  {
   "cell_type": "code",
   "execution_count": 22,
   "id": "d37615fc-ae3d-4821-bb3a-fea3e042b397",
   "metadata": {},
   "outputs": [],
   "source": [
    "data['area_type_encoded'] = label_encoder.fit_transform(data['area_type'])"
   ]
  },
  {
   "cell_type": "code",
   "execution_count": 23,
   "id": "569fd495-7142-460d-b196-920ced384453",
   "metadata": {},
   "outputs": [
    {
     "data": {
      "text/plain": [
       "area_type_encoded\n",
       "2    3208\n",
       "0     853\n",
       "1      25\n",
       "Name: count, dtype: int64"
      ]
     },
     "execution_count": 23,
     "metadata": {},
     "output_type": "execute_result"
    }
   ],
   "source": [
    "data.area_type_encoded.value_counts()"
   ]
  },
  {
   "cell_type": "markdown",
   "id": "bb5ea213-f2e8-49e7-8dc7-5c5aaed104a7",
   "metadata": {},
   "source": [
    "---"
   ]
  },
  {
   "cell_type": "markdown",
   "id": "9291f2c2-041e-4a8e-a80e-366eef70b8a7",
   "metadata": {},
   "source": [
    "*- Aggregate the data to calculate summary statistics or derived metrics such as average\n",
    "sale prices by neighborhood or property type.*"
   ]
  },
  {
   "cell_type": "code",
   "execution_count": 26,
   "id": "ff220449-c538-491a-8118-e4f00b80ad7a",
   "metadata": {},
   "outputs": [],
   "source": [
    "avg_price_by_location = data.groupby('location')['price'].mean()"
   ]
  },
  {
   "cell_type": "code",
   "execution_count": 27,
   "id": "297eaf4d-336b-44c5-a395-835b6ca0bb84",
   "metadata": {},
   "outputs": [
    {
     "name": "stdout",
     "output_type": "stream",
     "text": [
      "Location \t\t\t Average Price\n",
      " location\n",
      "1st Block HRBR Layout              67.000000\n",
      "1st Block Jayanagar                60.000000\n",
      "1st Block Koramangala              73.500000\n",
      "1st Phase JP Nagar                 86.583333\n",
      "1st Stage Indira Nagar             61.500000\n",
      "                                     ...    \n",
      "Yeshwanthpur Industrial Suburb    120.000000\n",
      "kadubisnahalli                     57.000000\n",
      "kanakapura main road               36.440000\n",
      "rr nagar                           60.000000\n",
      "sapthagiri Layout                 115.000000\n",
      "Name: price, Length: 653, dtype: float64\n"
     ]
    }
   ],
   "source": [
    "print(\"Location \\t\\t\\t Average Price\\n\", avg_price_by_location)"
   ]
  },
  {
   "cell_type": "markdown",
   "id": "91b47f5f-a384-4c56-80ad-f598305f9eea",
   "metadata": {},
   "source": [
    "---"
   ]
  },
  {
   "cell_type": "markdown",
   "id": "6fb8196d-fd25-442a-af96-a330fbb7f30e",
   "metadata": {},
   "source": [
    "*- Identify and handle outliers or extreme values in the data that may affect the analysis\n",
    "or modeling process*"
   ]
  },
  {
   "cell_type": "code",
   "execution_count": 30,
   "id": "5562707a-b855-4dc8-8059-eda8a324d7e2",
   "metadata": {},
   "outputs": [],
   "source": [
    "Q1 = data['price'].quantile(0.25)\n",
    "Q3 = data['price'].quantile(0.75)"
   ]
  },
  {
   "cell_type": "code",
   "execution_count": 31,
   "id": "faea7240-c5a6-4dce-9d66-5c0d6d2959a0",
   "metadata": {},
   "outputs": [],
   "source": [
    "IQR = Q3 - Q1"
   ]
  },
  {
   "cell_type": "code",
   "execution_count": 32,
   "id": "cc2419eb-2171-4299-8797-ebd5eb5872e3",
   "metadata": {},
   "outputs": [],
   "source": [
    "data = data[(data['price'] >= (Q1 - 1.5 * IQR)) & (data['price'] <= (Q3 + 1.5 * IQR))]"
   ]
  },
  {
   "cell_type": "code",
   "execution_count": null,
   "id": "5d1b0a85-6785-410d-aace-12bae7a94463",
   "metadata": {},
   "outputs": [],
   "source": []
  }
 ],
 "metadata": {
  "kernelspec": {
   "display_name": "Python 3 (ipykernel)",
   "language": "python",
   "name": "python3"
  },
  "language_info": {
   "codemirror_mode": {
    "name": "ipython",
    "version": 3
   },
   "file_extension": ".py",
   "mimetype": "text/x-python",
   "name": "python",
   "nbconvert_exporter": "python",
   "pygments_lexer": "ipython3",
   "version": "3.12.7"
  }
 },
 "nbformat": 4,
 "nbformat_minor": 5
}
